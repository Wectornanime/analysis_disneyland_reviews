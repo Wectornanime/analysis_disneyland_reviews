{
 "cells": [
  {
   "cell_type": "code",
   "execution_count": null,
   "id": "24d72b85",
   "metadata": {},
   "outputs": [],
   "source": [
    "# instala dependências extras\n",
    "\n",
    "!pip install torch --index-url https://download.pytorch.org/whl/cpu"
   ]
  },
  {
   "cell_type": "code",
   "execution_count": 1,
   "id": "0106e9c6",
   "metadata": {},
   "outputs": [
    {
     "name": "stderr",
     "output_type": "stream",
     "text": [
      "c:\\Users\\Wectornanime\\Workspace\\GitHub\\analysis_disneyland_reviews\\.venv\\Lib\\site-packages\\tqdm\\auto.py:21: TqdmWarning: IProgress not found. Please update jupyter and ipywidgets. See https://ipywidgets.readthedocs.io/en/stable/user_install.html\n",
      "  from .autonotebook import tqdm as notebook_tqdm\n"
     ]
    }
   ],
   "source": [
    "# importa as libs\n",
    "import os\n",
    "import sys\n",
    "from utils.utils import *\n",
    "from utils.bert_review_dataset import *\n",
    "\n",
    "import pandas as pd\n",
    "import numpy as np\n",
    "import pickle\n",
    "\n",
    "import matplotlib.pyplot as plt\n",
    "import matplotlib.ticker as mtick\n",
    "from matplotlib.ticker import MaxNLocator\n",
    "\n",
    "import re\n",
    "import nltk\n",
    "from nltk.corpus import stopwords\n",
    "from nltk.stem import WordNetLemmatizer\n",
    "from nltk.tokenize import word_tokenize\n",
    "\n",
    "from sklearn.feature_extraction.text import TfidfVectorizer\n",
    "from sklearn.model_selection import train_test_split\n",
    "from sklearn.svm import SVC\n",
    "from sklearn.neural_network import MLPClassifier\n",
    "from sklearn.metrics import accuracy_score, precision_score, recall_score, f1_score, confusion_matrix, precision_recall_fscore_support\n",
    "\n",
    "import torch\n",
    "from datasets import Dataset\n",
    "from transformers import AutoTokenizer, AutoModelForSequenceClassification, Trainer, TrainingArguments, pipeline"
   ]
  },
  {
   "cell_type": "code",
   "execution_count": null,
   "id": "4f44d33d",
   "metadata": {},
   "outputs": [],
   "source": [
    "# Baixar recursos NLTK\n",
    "\n",
    "nltk.download('stopwords')\n",
    "nltk.download('wordnet')\n",
    "nltk.download('punkt')\n",
    "nltk.download('omw-1.4')"
   ]
  },
  {
   "cell_type": "code",
   "execution_count": 2,
   "id": "e9670155",
   "metadata": {},
   "outputs": [],
   "source": [
    "# configuração\n",
    "\n",
    "dataset_uri = './database/DisneylandReviews.csv'\n",
    "dataset_encoding = 'latin1'\n",
    "\n",
    "pre_trined_model = 'MarieAngeA13/Sentiment-Analysis-BERT'\n",
    "\n",
    "supervised_training_repetitions = 10\n",
    "\n",
    "supervised_training_models = {\n",
    "  'MLP': MLPClassifier(hidden_layer_sizes=(100), max_iter=500, random_state=42),\n",
    "  'SVM': SVC(kernel='linear', random_state=42)\n",
    "}\n",
    "\n",
    "approval_size = 0.1 # 10% para homologação\n",
    "\n",
    "# configura a seed aleatória para os modelos supervisionados\n",
    "np.random.seed(19)"
   ]
  },
  {
   "cell_type": "code",
   "execution_count": 3,
   "id": "67b2fdb5",
   "metadata": {},
   "outputs": [],
   "source": [
    "# importa o dataset\n",
    "df = pd.read_csv(dataset_uri, encoding=dataset_encoding)"
   ]
  },
  {
   "cell_type": "markdown",
   "id": "93f54993",
   "metadata": {},
   "source": [
    "## Análise e Tratamento de Dados (EDA)"
   ]
  },
  {
   "cell_type": "code",
   "execution_count": 4,
   "id": "8ead7625",
   "metadata": {},
   "outputs": [
    {
     "data": {
      "text/html": [
       "<div>\n",
       "<style scoped>\n",
       "    .dataframe tbody tr th:only-of-type {\n",
       "        vertical-align: middle;\n",
       "    }\n",
       "\n",
       "    .dataframe tbody tr th {\n",
       "        vertical-align: top;\n",
       "    }\n",
       "\n",
       "    .dataframe thead th {\n",
       "        text-align: right;\n",
       "    }\n",
       "</style>\n",
       "<table border=\"1\" class=\"dataframe\">\n",
       "  <thead>\n",
       "    <tr style=\"text-align: right;\">\n",
       "      <th></th>\n",
       "      <th>Review_ID</th>\n",
       "      <th>Rating</th>\n",
       "      <th>Year_Month</th>\n",
       "      <th>Reviewer_Location</th>\n",
       "      <th>Review_Text</th>\n",
       "      <th>Branch</th>\n",
       "    </tr>\n",
       "  </thead>\n",
       "  <tbody>\n",
       "    <tr>\n",
       "      <th>0</th>\n",
       "      <td>670772142</td>\n",
       "      <td>4</td>\n",
       "      <td>2019-4</td>\n",
       "      <td>Australia</td>\n",
       "      <td>If you've ever been to Disneyland anywhere you...</td>\n",
       "      <td>Disneyland_HongKong</td>\n",
       "    </tr>\n",
       "    <tr>\n",
       "      <th>1</th>\n",
       "      <td>670682799</td>\n",
       "      <td>4</td>\n",
       "      <td>2019-5</td>\n",
       "      <td>Philippines</td>\n",
       "      <td>Its been a while since d last time we visit HK...</td>\n",
       "      <td>Disneyland_HongKong</td>\n",
       "    </tr>\n",
       "    <tr>\n",
       "      <th>2</th>\n",
       "      <td>670623270</td>\n",
       "      <td>4</td>\n",
       "      <td>2019-4</td>\n",
       "      <td>United Arab Emirates</td>\n",
       "      <td>Thanks God it wasn   t too hot or too humid wh...</td>\n",
       "      <td>Disneyland_HongKong</td>\n",
       "    </tr>\n",
       "    <tr>\n",
       "      <th>3</th>\n",
       "      <td>670607911</td>\n",
       "      <td>4</td>\n",
       "      <td>2019-4</td>\n",
       "      <td>Australia</td>\n",
       "      <td>HK Disneyland is a great compact park. Unfortu...</td>\n",
       "      <td>Disneyland_HongKong</td>\n",
       "    </tr>\n",
       "    <tr>\n",
       "      <th>4</th>\n",
       "      <td>670607296</td>\n",
       "      <td>4</td>\n",
       "      <td>2019-4</td>\n",
       "      <td>United Kingdom</td>\n",
       "      <td>the location is not in the city, took around 1...</td>\n",
       "      <td>Disneyland_HongKong</td>\n",
       "    </tr>\n",
       "  </tbody>\n",
       "</table>\n",
       "</div>"
      ],
      "text/plain": [
       "   Review_ID  Rating Year_Month     Reviewer_Location  \\\n",
       "0  670772142       4     2019-4             Australia   \n",
       "1  670682799       4     2019-5           Philippines   \n",
       "2  670623270       4     2019-4  United Arab Emirates   \n",
       "3  670607911       4     2019-4             Australia   \n",
       "4  670607296       4     2019-4        United Kingdom   \n",
       "\n",
       "                                         Review_Text               Branch  \n",
       "0  If you've ever been to Disneyland anywhere you...  Disneyland_HongKong  \n",
       "1  Its been a while since d last time we visit HK...  Disneyland_HongKong  \n",
       "2  Thanks God it wasn   t too hot or too humid wh...  Disneyland_HongKong  \n",
       "3  HK Disneyland is a great compact park. Unfortu...  Disneyland_HongKong  \n",
       "4  the location is not in the city, took around 1...  Disneyland_HongKong  "
      ]
     },
     "execution_count": 4,
     "metadata": {},
     "output_type": "execute_result"
    }
   ],
   "source": [
    "# primeiras linhas do dataset\n",
    "df.head()"
   ]
  },
  {
   "cell_type": "code",
   "execution_count": 5,
   "id": "8de60bbd",
   "metadata": {},
   "outputs": [
    {
     "name": "stdout",
     "output_type": "stream",
     "text": [
      "<class 'pandas.core.frame.DataFrame'>\n",
      "RangeIndex: 42656 entries, 0 to 42655\n",
      "Data columns (total 6 columns):\n",
      " #   Column             Non-Null Count  Dtype \n",
      "---  ------             --------------  ----- \n",
      " 0   Review_ID          42656 non-null  int64 \n",
      " 1   Rating             42656 non-null  int64 \n",
      " 2   Year_Month         42656 non-null  object\n",
      " 3   Reviewer_Location  42656 non-null  object\n",
      " 4   Review_Text        42656 non-null  object\n",
      " 5   Branch             42656 non-null  object\n",
      "dtypes: int64(2), object(4)\n",
      "memory usage: 2.0+ MB\n"
     ]
    }
   ],
   "source": [
    "# informações da base\n",
    "df.info()"
   ]
  },
  {
   "cell_type": "code",
   "execution_count": 6,
   "id": "83b216ab",
   "metadata": {},
   "outputs": [
    {
     "data": {
      "text/plain": [
       "Review_ID            0\n",
       "Rating               0\n",
       "Year_Month           0\n",
       "Reviewer_Location    0\n",
       "Review_Text          0\n",
       "Branch               0\n",
       "dtype: int64"
      ]
     },
     "execution_count": 6,
     "metadata": {},
     "output_type": "execute_result"
    }
   ],
   "source": [
    "# verificação de valores nulos\n",
    "df.isnull().sum()"
   ]
  },
  {
   "cell_type": "code",
   "execution_count": 7,
   "id": "94cd37d9",
   "metadata": {},
   "outputs": [
    {
     "data": {
      "text/plain": [
       "Rating\n",
       "5    23146\n",
       "4    10775\n",
       "3     5109\n",
       "2     2127\n",
       "1     1499\n",
       "Name: count, dtype: int64"
      ]
     },
     "execution_count": 7,
     "metadata": {},
     "output_type": "execute_result"
    }
   ],
   "source": [
    "df['Rating'].value_counts()"
   ]
  },
  {
   "cell_type": "markdown",
   "id": "ef8a6f0a",
   "metadata": {},
   "source": [
    "## Preparar o Rótulo (Sentimento)"
   ]
  },
  {
   "cell_type": "code",
   "execution_count": 8,
   "id": "44642d45",
   "metadata": {},
   "outputs": [
    {
     "data": {
      "text/html": [
       "<div>\n",
       "<style scoped>\n",
       "    .dataframe tbody tr th:only-of-type {\n",
       "        vertical-align: middle;\n",
       "    }\n",
       "\n",
       "    .dataframe tbody tr th {\n",
       "        vertical-align: top;\n",
       "    }\n",
       "\n",
       "    .dataframe thead th {\n",
       "        text-align: right;\n",
       "    }\n",
       "</style>\n",
       "<table border=\"1\" class=\"dataframe\">\n",
       "  <thead>\n",
       "    <tr style=\"text-align: right;\">\n",
       "      <th></th>\n",
       "      <th>Review_ID</th>\n",
       "      <th>Rating</th>\n",
       "      <th>Year_Month</th>\n",
       "      <th>Reviewer_Location</th>\n",
       "      <th>Review_Text</th>\n",
       "      <th>Branch</th>\n",
       "      <th>Sentiment</th>\n",
       "    </tr>\n",
       "  </thead>\n",
       "  <tbody>\n",
       "    <tr>\n",
       "      <th>0</th>\n",
       "      <td>670772142</td>\n",
       "      <td>4</td>\n",
       "      <td>2019-4</td>\n",
       "      <td>Australia</td>\n",
       "      <td>If you've ever been to Disneyland anywhere you...</td>\n",
       "      <td>Disneyland_HongKong</td>\n",
       "      <td>positive</td>\n",
       "    </tr>\n",
       "    <tr>\n",
       "      <th>1</th>\n",
       "      <td>670682799</td>\n",
       "      <td>4</td>\n",
       "      <td>2019-5</td>\n",
       "      <td>Philippines</td>\n",
       "      <td>Its been a while since d last time we visit HK...</td>\n",
       "      <td>Disneyland_HongKong</td>\n",
       "      <td>positive</td>\n",
       "    </tr>\n",
       "    <tr>\n",
       "      <th>2</th>\n",
       "      <td>670623270</td>\n",
       "      <td>4</td>\n",
       "      <td>2019-4</td>\n",
       "      <td>United Arab Emirates</td>\n",
       "      <td>Thanks God it wasn   t too hot or too humid wh...</td>\n",
       "      <td>Disneyland_HongKong</td>\n",
       "      <td>positive</td>\n",
       "    </tr>\n",
       "    <tr>\n",
       "      <th>3</th>\n",
       "      <td>670607911</td>\n",
       "      <td>4</td>\n",
       "      <td>2019-4</td>\n",
       "      <td>Australia</td>\n",
       "      <td>HK Disneyland is a great compact park. Unfortu...</td>\n",
       "      <td>Disneyland_HongKong</td>\n",
       "      <td>positive</td>\n",
       "    </tr>\n",
       "    <tr>\n",
       "      <th>4</th>\n",
       "      <td>670607296</td>\n",
       "      <td>4</td>\n",
       "      <td>2019-4</td>\n",
       "      <td>United Kingdom</td>\n",
       "      <td>the location is not in the city, took around 1...</td>\n",
       "      <td>Disneyland_HongKong</td>\n",
       "      <td>positive</td>\n",
       "    </tr>\n",
       "  </tbody>\n",
       "</table>\n",
       "</div>"
      ],
      "text/plain": [
       "   Review_ID  Rating Year_Month     Reviewer_Location  \\\n",
       "0  670772142       4     2019-4             Australia   \n",
       "1  670682799       4     2019-5           Philippines   \n",
       "2  670623270       4     2019-4  United Arab Emirates   \n",
       "3  670607911       4     2019-4             Australia   \n",
       "4  670607296       4     2019-4        United Kingdom   \n",
       "\n",
       "                                         Review_Text               Branch  \\\n",
       "0  If you've ever been to Disneyland anywhere you...  Disneyland_HongKong   \n",
       "1  Its been a while since d last time we visit HK...  Disneyland_HongKong   \n",
       "2  Thanks God it wasn   t too hot or too humid wh...  Disneyland_HongKong   \n",
       "3  HK Disneyland is a great compact park. Unfortu...  Disneyland_HongKong   \n",
       "4  the location is not in the city, took around 1...  Disneyland_HongKong   \n",
       "\n",
       "  Sentiment  \n",
       "0  positive  \n",
       "1  positive  \n",
       "2  positive  \n",
       "3  positive  \n",
       "4  positive  "
      ]
     },
     "execution_count": 8,
     "metadata": {},
     "output_type": "execute_result"
    }
   ],
   "source": [
    "# cria uma coluna chamada 'Sentiment'\n",
    "df['Sentiment'] = df['Rating'].apply(get_sentiment)\n",
    "df.head()"
   ]
  },
  {
   "cell_type": "code",
   "execution_count": 9,
   "id": "219f7f6e",
   "metadata": {},
   "outputs": [],
   "source": [
    "# separa o df para treino e testes\n",
    "\n",
    "df_treino, df_teste = train_test_split(df, test_size=approval_size, random_state=42)"
   ]
  },
  {
   "cell_type": "code",
   "execution_count": 10,
   "id": "3a1ce1ab",
   "metadata": {},
   "outputs": [
    {
     "data": {
      "text/html": [
       "<div>\n",
       "<style scoped>\n",
       "    .dataframe tbody tr th:only-of-type {\n",
       "        vertical-align: middle;\n",
       "    }\n",
       "\n",
       "    .dataframe tbody tr th {\n",
       "        vertical-align: top;\n",
       "    }\n",
       "\n",
       "    .dataframe thead th {\n",
       "        text-align: right;\n",
       "    }\n",
       "</style>\n",
       "<table border=\"1\" class=\"dataframe\">\n",
       "  <thead>\n",
       "    <tr style=\"text-align: right;\">\n",
       "      <th></th>\n",
       "      <th>Review_Text</th>\n",
       "      <th>Sentiment</th>\n",
       "    </tr>\n",
       "  </thead>\n",
       "  <tbody>\n",
       "    <tr>\n",
       "      <th>35355</th>\n",
       "      <td>Fabulous time with the family during August. V...</td>\n",
       "      <td>positive</td>\n",
       "    </tr>\n",
       "    <tr>\n",
       "      <th>34977</th>\n",
       "      <td>This is my forth time at Disneyland   Main Par...</td>\n",
       "      <td>negative</td>\n",
       "    </tr>\n",
       "    <tr>\n",
       "      <th>42216</th>\n",
       "      <td>We were very excited to have an opportunity to...</td>\n",
       "      <td>neutral</td>\n",
       "    </tr>\n",
       "    <tr>\n",
       "      <th>41388</th>\n",
       "      <td>I have just come back from  Dance Camp  (inclu...</td>\n",
       "      <td>neutral</td>\n",
       "    </tr>\n",
       "    <tr>\n",
       "      <th>26010</th>\n",
       "      <td>Rides for every age. My grandson loved starwar...</td>\n",
       "      <td>positive</td>\n",
       "    </tr>\n",
       "  </tbody>\n",
       "</table>\n",
       "</div>"
      ],
      "text/plain": [
       "                                             Review_Text Sentiment\n",
       "35355  Fabulous time with the family during August. V...  positive\n",
       "34977  This is my forth time at Disneyland   Main Par...  negative\n",
       "42216  We were very excited to have an opportunity to...   neutral\n",
       "41388  I have just come back from  Dance Camp  (inclu...   neutral\n",
       "26010  Rides for every age. My grandson loved starwar...  positive"
      ]
     },
     "execution_count": 10,
     "metadata": {},
     "output_type": "execute_result"
    }
   ],
   "source": [
    "# separa as colunas que queremos trabalhar\n",
    "df_treino = df_treino[['Review_Text', 'Sentiment']]\n",
    "df_treino.head()"
   ]
  },
  {
   "cell_type": "markdown",
   "id": "f4172552",
   "metadata": {},
   "source": [
    "## Pré-processamento de Texto"
   ]
  },
  {
   "cell_type": "code",
   "execution_count": 11,
   "id": "5092e6de",
   "metadata": {},
   "outputs": [],
   "source": [
    "# Inicializa o lematizador e stopwords\n",
    "\n",
    "lemmatizer = WordNetLemmatizer()\n",
    "stop_words = set(stopwords.words('english'))"
   ]
  },
  {
   "cell_type": "code",
   "execution_count": 12,
   "id": "4a8cfd1b",
   "metadata": {},
   "outputs": [],
   "source": [
    "# Inicializa a função responsável por fazer o pré-processamento de texto\n",
    "\n",
    "def preprocess_text(text):\n",
    "    # Converte para minúsculas\n",
    "    text = text.lower()\n",
    "    # Remove tudo que não for letra\n",
    "    text = re.sub(r'[^a-z\\s]', '', text)\n",
    "    # Tokeniza\n",
    "    tokens = text.split()\n",
    "    # tokens = word_tokenize(text) # o recurso punkt esta dando erro\n",
    "    # Remove stopwords e lemmatiza\n",
    "    tokens = [lemmatizer.lemmatize(word) for word in tokens if word not in stop_words]\n",
    "    return ' '.join(tokens)\n",
    "\n"
   ]
  },
  {
   "cell_type": "code",
   "execution_count": 13,
   "id": "cb074061",
   "metadata": {},
   "outputs": [
    {
     "data": {
      "text/html": [
       "<div>\n",
       "<style scoped>\n",
       "    .dataframe tbody tr th:only-of-type {\n",
       "        vertical-align: middle;\n",
       "    }\n",
       "\n",
       "    .dataframe tbody tr th {\n",
       "        vertical-align: top;\n",
       "    }\n",
       "\n",
       "    .dataframe thead th {\n",
       "        text-align: right;\n",
       "    }\n",
       "</style>\n",
       "<table border=\"1\" class=\"dataframe\">\n",
       "  <thead>\n",
       "    <tr style=\"text-align: right;\">\n",
       "      <th></th>\n",
       "      <th>Review_Text</th>\n",
       "      <th>Processed_Review</th>\n",
       "    </tr>\n",
       "  </thead>\n",
       "  <tbody>\n",
       "    <tr>\n",
       "      <th>35355</th>\n",
       "      <td>Fabulous time with the family during August. V...</td>\n",
       "      <td>fabulous time family august hot busy park fast...</td>\n",
       "    </tr>\n",
       "    <tr>\n",
       "      <th>34977</th>\n",
       "      <td>This is my forth time at Disneyland   Main Par...</td>\n",
       "      <td>forth time disneyland main park certainly last...</td>\n",
       "    </tr>\n",
       "    <tr>\n",
       "      <th>42216</th>\n",
       "      <td>We were very excited to have an opportunity to...</td>\n",
       "      <td>excited opportunity visit disney paris husband...</td>\n",
       "    </tr>\n",
       "    <tr>\n",
       "      <th>41388</th>\n",
       "      <td>I have just come back from  Dance Camp  (inclu...</td>\n",
       "      <td>come back dance camp includes sing camp euro d...</td>\n",
       "    </tr>\n",
       "    <tr>\n",
       "      <th>26010</th>\n",
       "      <td>Rides for every age. My grandson loved starwar...</td>\n",
       "      <td>ride every age grandson loved starwars really ...</td>\n",
       "    </tr>\n",
       "  </tbody>\n",
       "</table>\n",
       "</div>"
      ],
      "text/plain": [
       "                                             Review_Text  \\\n",
       "35355  Fabulous time with the family during August. V...   \n",
       "34977  This is my forth time at Disneyland   Main Par...   \n",
       "42216  We were very excited to have an opportunity to...   \n",
       "41388  I have just come back from  Dance Camp  (inclu...   \n",
       "26010  Rides for every age. My grandson loved starwar...   \n",
       "\n",
       "                                        Processed_Review  \n",
       "35355  fabulous time family august hot busy park fast...  \n",
       "34977  forth time disneyland main park certainly last...  \n",
       "42216  excited opportunity visit disney paris husband...  \n",
       "41388  come back dance camp includes sing camp euro d...  \n",
       "26010  ride every age grandson loved starwars really ...  "
      ]
     },
     "execution_count": 13,
     "metadata": {},
     "output_type": "execute_result"
    }
   ],
   "source": [
    "# Aplica o pré-processamento na coluna 'Review_Text'\n",
    "df_treino['Processed_Review'] = df_treino['Review_Text'].apply(preprocess_text)\n",
    "\n",
    "df_treino[['Review_Text', 'Processed_Review']].head()"
   ]
  },
  {
   "cell_type": "markdown",
   "id": "e63c4c11",
   "metadata": {},
   "source": [
    "## Extração de Features"
   ]
  },
  {
   "cell_type": "code",
   "execution_count": 14,
   "id": "76feb99e",
   "metadata": {},
   "outputs": [],
   "source": [
    "# define X e y\n",
    "X = df_treino['Processed_Review']\n",
    "y = df_treino['Sentiment']"
   ]
  },
  {
   "cell_type": "markdown",
   "id": "993fac15",
   "metadata": {},
   "source": [
    "### Modelos Supervisionados Tradicionais (com TF-IDF)"
   ]
  },
  {
   "cell_type": "code",
   "execution_count": 15,
   "id": "a1a93feb",
   "metadata": {},
   "outputs": [],
   "source": [
    "# listas com as métricas\n",
    "\n",
    "accuracy = {}\n",
    "precision = {}\n",
    "recall = {}\n",
    "f1 = {}\n",
    "confusion = {}\n",
    "\n",
    "all_precision = {}\n",
    "all_recall = {}\n",
    "all_accuracy = {}"
   ]
  },
  {
   "cell_type": "code",
   "execution_count": 16,
   "id": "de269ca3",
   "metadata": {},
   "outputs": [],
   "source": [
    "# função de treino\n",
    "\n",
    "def train_models():\n",
    "  # Dividir os dados em treino e teste\n",
    "  X_train, X_test, y_train, y_test = train_test_split(X, y, test_size=0.2, random_state=42, stratify=y)\n",
    "\n",
    "  # usando TF-IDF\n",
    "  vectorizer = TfidfVectorizer(max_features=5000)\n",
    "  X_train = vectorizer.fit_transform(X_train)\n",
    "  X_test = vectorizer.transform(X_test)\n",
    "\n",
    "  for name, model in supervised_training_models.items():\n",
    "    model.fit(X_train, y_train)\n",
    "    pred = model.predict(X_test)\n",
    "\n",
    "    all_precision[name].append(precision_score(y_test, pred, average='weighted'))\n",
    "    all_recall[name].append(recall_score(y_test, pred, average='weighted'))\n",
    "    all_accuracy[name].append(accuracy_score(y_test, pred))"
   ]
  },
  {
   "cell_type": "markdown",
   "id": "d1cd43c6",
   "metadata": {},
   "source": [
    "## Modelagem e Classificação"
   ]
  },
  {
   "cell_type": "markdown",
   "id": "8c7dc14a",
   "metadata": {},
   "source": [
    "### Modelos Supervisionados Tradicionais (com TF-IDF)"
   ]
  },
  {
   "cell_type": "code",
   "execution_count": 17,
   "id": "0a84df49",
   "metadata": {},
   "outputs": [],
   "source": [
    "# Dividir os dados em treino e teste\n",
    "X_train, X_test, y_train, y_test = train_test_split(X, y, test_size=0.2, random_state=42, stratify=y)"
   ]
  },
  {
   "cell_type": "code",
   "execution_count": 18,
   "id": "1b2e8da4",
   "metadata": {},
   "outputs": [],
   "source": [
    "# usando TF-IDF\n",
    "vectorizer = TfidfVectorizer(max_features=5000)\n",
    "X_train = vectorizer.fit_transform(X_train)\n",
    "X_test = vectorizer.transform(X_test)"
   ]
  },
  {
   "cell_type": "code",
   "execution_count": 20,
   "id": "29e0e77d",
   "metadata": {},
   "outputs": [],
   "source": [
    "# MLP\n",
    "mlp_model = MLPClassifier(hidden_layer_sizes=(100), max_iter=500, random_state=42)\n",
    "mlp_model.fit(X_train, y_train)\n",
    "y_pred_mlp = mlp_model.predict(X_test)\n",
    "\n",
    "accuracy['mlp'] = accuracy_score(y_test, y_pred_mlp)\n",
    "precision['mlp'] = precision_score(y_test, y_pred_mlp, average='weighted')\n",
    "recall['mlp'] = recall_score(y_test, y_pred_mlp, average='weighted')\n",
    "f1['mlp'] = f1_score(y_test, y_pred_mlp, average='weighted')\n",
    "confusion['mlp'] = confusion_matrix(y_test, y_pred_mlp)"
   ]
  },
  {
   "cell_type": "code",
   "execution_count": null,
   "id": "d7a470c6",
   "metadata": {},
   "outputs": [],
   "source": [
    "# SVM\n",
    "svm_model = SVC(kernel='linear', random_state=42)\n",
    "svm_model.fit(X_train, y_train)\n",
    "y_pred_svm = svm_model.predict(X_test)\n",
    "\n",
    "accuracy['svm'] = accuracy_score(y_test, y_pred_svm)\n",
    "precision['svm'] = precision_score(y_test, y_pred_svm, average='weighted')\n",
    "recall['svm'] = recall_score(y_test, y_pred_svm, average='weighted')\n",
    "f1['svm'] = f1_score(y_test, y_pred_svm, average='weighted')\n",
    "confusion['svm'] = confusion_matrix(y_test, y_pred_svm)"
   ]
  },
  {
   "cell_type": "markdown",
   "id": "b3808a50",
   "metadata": {},
   "source": [
    "## Trinamento dos modelos"
   ]
  },
  {
   "cell_type": "code",
   "execution_count": null,
   "id": "402dbfb7",
   "metadata": {},
   "outputs": [],
   "source": [
    "# treina os modelos supervisionados\n",
    "\n",
    "for i in range(supervised_training_repetitions):\n",
    "  train_models()\n",
    "\n",
    "  # barra de progresso\n",
    "  percent = (i + 1) / supervised_training_repetitions\n",
    "  bar = '#' * int(50 * percent) + '-' * (50 - int(50 * percent))\n",
    "\n",
    "  sys.stdout.write(f'\\r[{bar}] {int(percent * 100)}%')\n",
    "  sys.stdout.flush()"
   ]
  },
  {
   "cell_type": "markdown",
   "id": "614a705a",
   "metadata": {},
   "source": [
    "#### Resultados:"
   ]
  },
  {
   "cell_type": "code",
   "execution_count": null,
   "id": "153bb910",
   "metadata": {},
   "outputs": [],
   "source": [
    "# Exibir as métricas dos modelos\n",
    "print('Média das métricas dos modelos:')\n",
    "\n",
    "print('Precisão:')\n",
    "for k, v in all_precision.items():\n",
    "  print(f'{k}: {np.mean(v):.4f}')\n",
    "\n",
    "print('Recall:')\n",
    "for k, v in all_recall.items():\n",
    "  print(f'{k}: {np.mean(v):.4f}')\n",
    "\n",
    "print('Acurácia:')\n",
    "for k, v in all_accuracy.items():\n",
    "  print(f'{k}: {np.mean(v):.4f}')"
   ]
  },
  {
   "cell_type": "code",
   "execution_count": null,
   "id": "84d91e03",
   "metadata": {},
   "outputs": [],
   "source": [
    "# tabela com os resultados\n",
    "\n",
    "models_list = list(supervised_training_models.keys())\n",
    "\n",
    "pd.DataFrame({\n",
    "    'Modelo': models_list,\n",
    "    'Precisão Média': [np.mean(all_precision[model_name]) for model_name in models_list],\n",
    "    'Recall Médio': [np.mean(all_recall[model_name]) for model_name in models_list],\n",
    "    'Acurácia Média': [np.mean(all_accuracy[model_name]) for model_name in models_list]\n",
    "})"
   ]
  },
  {
   "cell_type": "code",
   "execution_count": null,
   "id": "dcf4d4bd",
   "metadata": {},
   "outputs": [],
   "source": [
    "# Exibe os valores da precisão em gráfico\n",
    "\n",
    "plt.title('Gráfico da precisão dos modelos')\n",
    "\n",
    "for name, value in all_precision.items():\n",
    "  plt.plot(value, label=name)\n",
    "\n",
    "# Adicionando título e rótulos aos eixos\n",
    "plt.xlabel('Interação')\n",
    "plt.ylabel('Valor')\n",
    "\n",
    "# Adicionando a legenda para identificar as linhas\n",
    "plt.legend()\n",
    "\n",
    "# Aqui força o eixo X a mostrar apenas inteiros\n",
    "plt.gca().xaxis.set_major_locator(MaxNLocator(integer=True))\n",
    "\n",
    "# Ajusta os números para 3 casas decimais\n",
    "plt.gca().yaxis.set_major_formatter(mtick.FormatStrFormatter('%.3f'))\n",
    "\n",
    "# Exibindo o gráfico\n",
    "plt.show()"
   ]
  },
  {
   "cell_type": "code",
   "execution_count": null,
   "id": "b918dbb5",
   "metadata": {},
   "outputs": [],
   "source": [
    "# Exibe os valores da recall em gráfico\n",
    "\n",
    "plt.title('Gráfico do recall dos modelos')\n",
    "\n",
    "for name, value in all_recall.items():\n",
    "  plt.plot(value, label=name)\n",
    "\n",
    "# Adicionando título e rótulos aos eixos\n",
    "plt.xlabel('Interação')\n",
    "plt.ylabel('Valor')\n",
    "\n",
    "# Adicionando a legenda para identificar as linhas\n",
    "plt.legend()\n",
    "\n",
    "# Aqui força o eixo X a mostrar apenas inteiros\n",
    "plt.gca().xaxis.set_major_locator(MaxNLocator(integer=True))\n",
    "\n",
    "# Ajusta os números para 3 casas decimais\n",
    "plt.gca().yaxis.set_major_formatter(mtick.FormatStrFormatter('%.3f'))\n",
    "\n",
    "# Exibindo o gráfico\n",
    "plt.show()"
   ]
  },
  {
   "cell_type": "code",
   "execution_count": null,
   "id": "2540aef8",
   "metadata": {},
   "outputs": [],
   "source": [
    "# Exibe os valores da acurácia em gráfico\n",
    "\n",
    "plt.title('Gráfico da acurácia dos modelos')\n",
    "\n",
    "for name, value in all_accuracy.items():\n",
    "  plt.plot(value, label=name)\n",
    "\n",
    "# Adicionando título e rótulos aos eixos\n",
    "plt.xlabel('Interação')\n",
    "plt.ylabel('Valor')\n",
    "\n",
    "# Adicionando a legenda para identificar as linhas\n",
    "plt.legend()\n",
    "\n",
    "# Aqui força o eixo X a mostrar apenas inteiros\n",
    "plt.gca().xaxis.set_major_locator(MaxNLocator(integer=True))\n",
    "\n",
    "# Ajusta os números para 3 casas decimais\n",
    "plt.gca().yaxis.set_major_formatter(mtick.FormatStrFormatter('%.3f'))\n",
    "\n",
    "# Exibindo o gráfico\n",
    "plt.show()"
   ]
  },
  {
   "cell_type": "markdown",
   "id": "be3d6dae",
   "metadata": {},
   "source": [
    "#### Exporta os modelos"
   ]
  },
  {
   "cell_type": "code",
   "execution_count": null,
   "id": "e288b7e0",
   "metadata": {},
   "outputs": [],
   "source": [
    "if not os.path.exists('exports'):\n",
    "  os.makedirs('exports')\n",
    "\n",
    "for name, model in supervised_training_models.items():\n",
    "  with open(f'exports/model_{name}.pkl', 'wb') as file:\n",
    "    pickle.dump({'model': model, 'vectorizer': vectorizer}, file)"
   ]
  },
  {
   "cell_type": "markdown",
   "id": "3cb29100",
   "metadata": {},
   "source": [
    "### Modelo Pré-treinado (BERT)\n",
    "\n"
   ]
  },
  {
   "cell_type": "code",
   "execution_count": 21,
   "id": "724a2a2e",
   "metadata": {},
   "outputs": [
    {
     "name": "stderr",
     "output_type": "stream",
     "text": [
      "Device set to use cpu\n"
     ]
    }
   ],
   "source": [
    "sentiment_pipeline = pipeline(model=pre_trined_model)"
   ]
  },
  {
   "cell_type": "code",
   "execution_count": 26,
   "id": "f4fc992c",
   "metadata": {},
   "outputs": [
    {
     "data": {
      "text/plain": [
       "[{'label': 'negative', 'score': 0.8375328779220581}]"
      ]
     },
     "execution_count": 26,
     "metadata": {},
     "output_type": "execute_result"
    }
   ],
   "source": [
    "sentiment_pipeline(\"Its Disneyland! But don't have happy\")"
   ]
  },
  {
   "cell_type": "markdown",
   "id": "d3bd5f8f",
   "metadata": {},
   "source": [
    "## Comparação entre os modelos"
   ]
  },
  {
   "cell_type": "code",
   "execution_count": 22,
   "id": "2e28c4cb",
   "metadata": {},
   "outputs": [],
   "source": [
    "# seleciona o modelo supervisionado\n",
    "\n",
    "supervised_model = mlp_model"
   ]
  },
  {
   "cell_type": "code",
   "execution_count": 23,
   "id": "3652e9d8",
   "metadata": {},
   "outputs": [],
   "source": [
    "# separar os dados\n",
    "\n",
    "X_approval = df_teste['Review_Text']\n",
    "y_approval = df_teste['Sentiment']"
   ]
  },
  {
   "cell_type": "code",
   "execution_count": 24,
   "id": "a8d447a6",
   "metadata": {},
   "outputs": [],
   "source": [
    "# Supervisionado\n",
    "\n",
    "# vetoriza\n",
    "X_test_vectorized = vectorizer.transform(X_approval)\n",
    "\n",
    "# predição\n",
    "y_pred_supervised = supervised_model.predict(X_test_vectorized)"
   ]
  },
  {
   "cell_type": "code",
   "execution_count": null,
   "id": "eebafaec",
   "metadata": {},
   "outputs": [],
   "source": [
    "# Bert\n",
    "\n",
    "bert_results = sentiment_pipeline(X_approval.tolist(), truncation=True)\n",
    "\n",
    "# Extrair o rótulo da chave 'label'\n",
    "y_pred_bert = [res['label'] for res in bert_results]"
   ]
  },
  {
   "cell_type": "markdown",
   "id": "6041bd6e",
   "metadata": {},
   "source": [
    "### Resultado"
   ]
  },
  {
   "cell_type": "code",
   "execution_count": null,
   "id": "83b52a58",
   "metadata": {},
   "outputs": [],
   "source": [
    "models_approval = ['Supervisionado', 'Bert']"
   ]
  },
  {
   "cell_type": "code",
   "execution_count": 38,
   "id": "e1909745",
   "metadata": {},
   "outputs": [
    {
     "data": {
      "image/png": "[encoded data removed]",
      "text/plain": [
       "<Figure size 640x480 with 1 Axes>"
      ]
     },
     "metadata": {},
     "output_type": "display_data"
    }
   ],
   "source": [
    "# precisão em gráfico de barras\n",
    "\n",
    "precision_approval = [\n",
    "  precision_score(y_approval, y_pred_supervised, average='weighted'),\n",
    "  precision_score(y_approval, y_pred_bert, average='weighted')\n",
    "]\n",
    "\n",
    "plt.title('Gráfico da precisão')\n",
    "plt.bar(models_approval, precision_approval)\n",
    "plt.xlabel('Modelos')\n",
    "plt.ylabel('Valores')\n",
    "\n",
    "plt.show()"
   ]
  },
  {
   "cell_type": "code",
   "execution_count": 37,
   "id": "b41126da",
   "metadata": {},
   "outputs": [
    {
     "data": {
      "image/png": "[encoded data removed]",
      "text/plain": [
       "<Figure size 640x480 with 1 Axes>"
      ]
     },
     "metadata": {},
     "output_type": "display_data"
    }
   ],
   "source": [
    "# recall em gráfico de barras\n",
    "\n",
    "recall_approval = [\n",
    "  recall_score(y_approval, y_pred_supervised, average='weighted'),\n",
    "  recall_score(y_approval, y_pred_bert, average='weighted')\n",
    "]\n",
    "\n",
    "plt.title('Gráfico do recall')\n",
    "plt.bar(models_approval, recall_approval)\n",
    "plt.xlabel('Modelos')\n",
    "plt.ylabel('Valores')\n",
    "\n",
    "plt.show()"
   ]
  },
  {
   "cell_type": "code",
   "execution_count": 33,
   "id": "002dfcd0",
   "metadata": {},
   "outputs": [
    {
     "data": {
      "image/png": "[encoded data removed]",
      "text/plain": [
       "<Figure size 640x480 with 1 Axes>"
      ]
     },
     "metadata": {},
     "output_type": "display_data"
    }
   ],
   "source": [
    "# acurácia em gráfico de barras\n",
    "\n",
    "accuracy_approval = [\n",
    "  accuracy_score(y_approval, y_pred_supervised),\n",
    "  accuracy_score(y_approval, y_pred_bert)\n",
    "]\n",
    "\n",
    "plt.title('Gráfico da acurácia')\n",
    "plt.bar(models_approval, accuracy_approval)\n",
    "plt.xlabel('Modelos')\n",
    "plt.ylabel('Valores')\n",
    "\n",
    "plt.show()"
   ]
  }
 ],
 "metadata": {
  "kernelspec": {
   "display_name": ".venv",
   "language": "python",
   "name": "python3"
  },
  "language_info": {
   "codemirror_mode": {
    "name": "ipython",
    "version": 3
   },
   "file_extension": ".py",
   "mimetype": "text/x-python",
   "name": "python",
   "nbconvert_exporter": "python",
   "pygments_lexer": "ipython3",
   "version": "3.12.3"
  }
 },
 "nbformat": 4,
 "nbformat_minor": 5
}
